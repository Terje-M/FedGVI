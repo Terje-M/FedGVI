{
 "cells": [
  {
   "cell_type": "markdown",
   "id": "e37cda17-8ed3-4d39-94ae-55489a505da6",
   "metadata": {},
   "source": [
    "# MNIST to CSV"
   ]
  },
  {
   "cell_type": "code",
   "execution_count": null,
   "id": "6f563cae-f431-4ee5-a2b8-5d033b77ae78",
   "metadata": {},
   "outputs": [
    {
     "name": "stdout",
     "output_type": "stream",
     "text": [
      "The autoreload extension is already loaded. To reload it, use:\n",
      "  %reload_ext autoreload\n"
     ]
    }
   ],
   "source": [
    "%load_ext autoreload\n",
    "%autoreload 2\n",
    "\n",
    "import os\n",
    "import sys\n",
    "import logging\n",
    "\n",
    "module_path = os.path.abspath(os.path.join(\"./MNIST/raw/\"))\n",
    "if module_path not in sys.path:\n",
    "    sys.path.append(module_path)"
   ]
  },
  {
   "cell_type": "code",
   "execution_count": 8,
   "id": "332d2ccd-3cad-44cd-8ae5-74b28eeafddc",
   "metadata": {},
   "outputs": [],
   "source": [
    "def convert(imgf, labelf, outf, n):\n",
    "    f = open(imgf, \"rb\")\n",
    "    o = open(outf, \"w\")\n",
    "    l = open(labelf, \"rb\")\n",
    "    \n",
    "    f.read(16)\n",
    "    l.read(8)\n",
    "    images = []\n",
    "    \n",
    "    for i in range(n):\n",
    "        image = [ord(l.read(1))]\n",
    "        for j in range(28*28):\n",
    "            image.append(ord(f.read(1)))\n",
    "        images.append(image)\n",
    "            \n",
    "    for image in images:\n",
    "        o.write(\",\".join(str(pix) for pix in image)+\"\\n\")\n",
    "    f.close()\n",
    "    o.close()\n",
    "    l.close()\n",
    "    \n",
    "convert(\"./MNIST/raw/train-images-idx3-ubyte\", \"./MNIST/raw/train-labels-idx1-ubyte\",\n",
    "       \"mnist_train.csv\", 60000)\n",
    "convert(\"./MNIST/raw/t10k-images-idx3-ubyte\", \"./MNIST/raw/t10k-labels-idx1-ubyte\", \n",
    "        \"mnist_test.csv\", 10000)"
   ]
  }
 ],
 "metadata": {
  "kernelspec": {
   "display_name": "Python 3 (ipykernel)",
   "language": "python",
   "name": "python3"
  },
  "language_info": {
   "codemirror_mode": {
    "name": "ipython",
    "version": 3
   },
   "file_extension": ".py",
   "mimetype": "text/x-python",
   "name": "python",
   "nbconvert_exporter": "python",
   "pygments_lexer": "ipython3",
   "version": "3.8.10"
  }
 },
 "nbformat": 4,
 "nbformat_minor": 5
}
